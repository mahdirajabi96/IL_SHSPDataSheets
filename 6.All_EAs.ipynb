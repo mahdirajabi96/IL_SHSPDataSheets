{
 "cells": [
  {
   "cell_type": "code",
   "execution_count": null,
   "metadata": {},
   "outputs": [],
   "source": [
    "# Importing requird python packages\n",
    "# Path to hsmpy package\n",
    "HSMPY_PATH = r'\\\\CHCFPP01\\Guest\\MRajabi\\Python Scripts'\n",
    "import sys, os, arcpy, csv, json, math\n",
    "sys.path.append(HSMPY_PATH)\n",
    "import hsmpy3\n",
    "import matplotlib.pyplot as plt\n",
    "import numpy as np\n",
    "import pandas as pd\n",
    "from datetime import datetime\n",
    "from IPython.display import Image\n",
    "from IPython.core.display import HTML \n",
    "import subprocess \n",
    "import webbrowser\n",
    "import time\n",
    "import copy\n",
    "import scipy\n",
    "from matplotlib.gridspec import GridSpec\n",
    "from __future__ import print_function\n",
    "from mailmerge import MailMerge\n",
    "import shutil\n",
    "import openpyxl\n",
    "from scipy.optimize import curve_fit\n",
    "from time import gmtime, strftime\n",
    "from ipywidgets import FloatProgress\n",
    "print(strftime(\"%Y-%m-%d %H:%M:%S\"))"
   ]
  },
  {
   "cell_type": "code",
   "execution_count": null,
   "metadata": {},
   "outputs": [],
   "source": [
    "Years = range(2004,2017)\n",
    "# Roadway and Crash Data\n",
    "Project_Dir = r'\\\\CHCFPP01\\Proj\\ILDOT\\650511SAFETYPROGRAM\\4_WorkData\\WO19\\IL_Crash_Assignment'\n",
    "SourceDir = Project_Dir + '\\\\CrashData_Original'\n",
    "OutputDir = Project_Dir + '\\\\CrashData_Cleaned'\n",
    "GDB = Project_Dir + '\\\\IL_Crash.gdb'\n",
    "IRIS_Path = r'C:\\Users\\mr068144\\Downloads\\IL Data\\IRIS\\IL_IRIS.gdb'\n",
    "Routes  = {year:IRIS_Path + '\\\\HWY{}_route'.format(year) for year in Years}\n",
    "AttTabs  = {year:IRIS_Path + '\\\\HWY{}_table_HCurve'.format(year) for year in Years}\n",
    "print(strftime(\"%Y-%m-%d %H:%M:%S\"))"
   ]
  },
  {
   "cell_type": "code",
   "execution_count": null,
   "metadata": {},
   "outputs": [],
   "source": [
    "#Read Crash Data\n",
    "print(strftime(\"%Y-%m-%d %H:%M:%S\"))\n",
    "Crash_DF = pd.DataFrame()\n",
    "for year in range(2005,2017):\n",
    "    #df = pd.read_csv(r'C:\\Users\\mr068144\\Downloads\\IL Data\\IL Crash Data'+'\\\\{}_Crash_Cleaned.csv'.format(year),index_col=0)\n",
    "    df = pd.read_csv(OutputDir+'\\\\{}_Crash_Assigned.csv'.format(year),index_col=0)\n",
    "    df['DATE'] = pd.to_datetime(df['DATE'])\n",
    "    df['YEAR'] = year\n",
    "    #print(year,df.shape[0]-df.drop_duplicates().shape[0])\n",
    "    Crash_DF = pd.concat([Crash_DF,df])\n",
    "    print(year)\n",
    "print(Crash_DF.shape)\n",
    "print(strftime(\"%Y-%m-%d %H:%M:%S\"))"
   ]
  },
  {
   "cell_type": "code",
   "execution_count": null,
   "metadata": {},
   "outputs": [],
   "source": [
    "# Read Vehicle Data\n",
    "print(strftime(\"%Y-%m-%d %H:%M:%S\"))\n",
    "Veh_DF = pd.DataFrame()\n",
    "for year in range(2004,2017):\n",
    "    df = pd.read_csv(OutputDir+'\\\\{}_Vehicle_Cleaned_EA.csv'.format(year),index_col=[0,1])\n",
    "    df['YEAR'] = year\n",
    "    Veh_DF = pd.concat([Veh_DF,df])\n",
    "    print(year)\n",
    "print(Veh_DF.shape)\n",
    "print(strftime(\"%Y-%m-%d %H:%M:%S\"))"
   ]
  },
  {
   "cell_type": "code",
   "execution_count": null,
   "metadata": {},
   "outputs": [],
   "source": [
    "# Read Person Data\n",
    "print(strftime(\"%Y-%m-%d %H:%M:%S\"))\n",
    "Occ_DF = pd.DataFrame()\n",
    "for year in range(2004,2017):\n",
    "    df = pd.read_csv(OutputDir+'\\\\{}_Person_Cleaned_EA.csv'.format(year),index_col=[0,1,2], encoding='latin-1',low_memory=False)\n",
    "    df['YEAR'] = year\n",
    "    Occ_DF = pd.concat([Occ_DF,df])\n",
    "    print(year)\n",
    "print(Occ_DF.shape)\n",
    "print(strftime(\"%Y-%m-%d %H:%M:%S\"))"
   ]
  },
  {
   "cell_type": "code",
   "execution_count": null,
   "metadata": {},
   "outputs": [],
   "source": [
    "# Check EA Definitions\n",
    "EA_DF = pd.DataFrame(index = ['RD','IM','UO','IN','SA','OD','YD','MC','HV','PD','PC','WZ','DF','TN'],columns=['K_Ref','K','A','B','C','O'])\n",
    "EA_DF = EA_DF.fillna(0)\n",
    "EA_DF['K_Ref'] = [2048,2088,1377,1178,1108,848,694,694,672,641,137,133,123,45]\n",
    "for i in EA_DF.index:\n",
    "    for c in ['K','A','B','C','O']:\n",
    "        EA_DF.set_value(i,c,Occ_DF[(Occ_DF.YEAR.isin(range(2004,2017))) & (Occ_DF['EA_'+i]==1) & (Occ_DF.INJ_SEV=={'K':4,'A':3,'B':2,'C':1,'O':0}[c])].shape[0])\n",
    "EA_DF"
   ]
  },
  {
   "cell_type": "code",
   "execution_count": null,
   "metadata": {},
   "outputs": [],
   "source": [
    "EA_DF = pd.DataFrame(index=range(2004,2017),columns=pd.MultiIndex.from_product([['K','A','B','C'],['RD','IM','UO','IN','SA','OD','YD','MC','HV','PD','PC','WZ','DF','TN']],names=['Injuries','EA']))\n",
    "EA_DF = EA_DF.fillna(0)\n",
    "EA_DF = EA_DF.T\n",
    "for i,r in EA_DF.iterrows():\n",
    "    #print(i)\n",
    "    df = pd.DataFrame(columns=['Numbers'],index=range(2004,2017))\n",
    "    df.Numbers = pd.DataFrame(Occ_DF[(Occ_DF.INJ_SEV=={'K':4,'A':3,'B':2,'C':1}[i[0]]) & (Occ_DF['EA_'+i[1]]==1)].groupby('YEAR').size())\n",
    "    EA_DF.loc[i]=list(df.Numbers)\n",
    "EA_DF = EA_DF.fillna(0)\n",
    "EA_DF = EA_DF.astype(int)\n",
    "EA_DF"
   ]
  },
  {
   "cell_type": "code",
   "execution_count": null,
   "metadata": {},
   "outputs": [],
   "source": [
    "EAs = [['RD','IM'],\n",
    "['UO','IN','SA','OD'],\n",
    "['YD','MC','HV','PD'],\n",
    "['PC','WZ','DF','TN']]\n",
    "for EA in EAs:\n",
    "    plt.figure(figsize=(12, 8), dpi=300, facecolor='w', edgecolor='k')\n",
    "    plt.plot(EA_DF.loc[('K')].T[EA])\n",
    "    plt.xlim([2005,2017])\n",
    "    plt.xticks(range(2005,2017),range(2005,2017))\n",
    "    plt.legend(EA,loc = 'upper left')\n",
    "    plt.grid()\n",
    "    plt.show()"
   ]
  }
 ],
 "metadata": {
  "kernelspec": {
   "display_name": "Python 3",
   "language": "python",
   "name": "python3"
  },
  "language_info": {
   "codemirror_mode": {
    "name": "ipython",
    "version": 3
   },
   "file_extension": ".py",
   "mimetype": "text/x-python",
   "name": "python",
   "nbconvert_exporter": "python",
   "pygments_lexer": "ipython3",
   "version": "3.6.4"
  }
 },
 "nbformat": 4,
 "nbformat_minor": 2
}
