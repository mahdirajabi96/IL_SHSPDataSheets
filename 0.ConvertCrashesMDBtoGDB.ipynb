{
 "cells": [
  {
   "cell_type": "code",
   "execution_count": 1,
   "metadata": {},
   "outputs": [],
   "source": [
    "import arcpy\n",
    "def Src_Files(File,year):\n",
    "    Path = r'\\\\CHCFPP01\\Proj\\ILDOT\\650511SAFETYPROGRAM\\7_BaseData\\Master_BaseFiles_Data'\n",
    "    if File=='Loc':\n",
    "        if year==2016:\n",
    "            return(Path + '\\\\{}\\\\AggregateFiles_{}_20180402.mdb\\\\CrashExtract_{}_GIS'.format(year,year,year))\n",
    "        else:\n",
    "            return(Path + '\\\\{}\\\\AggregateFiles_{}.mdb\\\\CrashExtract_{}_GIS'.format(year,year,year))\n",
    "    if File=='Unit':\n",
    "        if year==2016:\n",
    "            return(Path + '\\\\{}\\\\AggregateFiles_{}_20180402.mdb\\\\VehicleExtract_{}_GIS'.format(year,year,year))\n",
    "        else:\n",
    "            return(Path + '\\\\{}\\\\AggregateFiles_{}.mdb\\\\VehicleExtract_{}_GIS'.format(year,year,year))\n",
    "    if File=='Occ':\n",
    "        if year==2016:\n",
    "            return(Path + '\\\\{}\\\\AggregateFiles_{}_20180402.mdb\\\\PersonExtract_{}'.format(year,year,year))\n",
    "        else:\n",
    "            return(Path + '\\\\{}\\\\AggregateFiles_{}.mdb\\\\PersonExtract_{}'.format(year,year,year))\n",
    "\n",
    "def Des_Files(File,year):\n",
    "    return(r'C:\\Users\\mr068144\\Downloads\\IL Data\\IL Crash Data\\IL_Crash.gdb\\{}_{}'.format(File,year))"
   ]
  },
  {
   "cell_type": "code",
   "execution_count": 3,
   "metadata": {},
   "outputs": [
    {
     "ename": "ExecuteError",
     "evalue": "Failed to execute. Parameters are not valid.\nERROR 000732: Input Rows: Dataset \\\\CHCFPP01\\Proj\\ILDOT\\650511SAFETYPROGRAM\\7_BaseData\\Master_BaseFiles_Data\\2016\\AggregateFiles_2016_20180402.mdb\\CrashExtract_2016_GIS does not exist or is not supported\nFailed to execute (GetCount).\n",
     "output_type": "error",
     "traceback": [
      "\u001b[1;31m---------------------------------------------------------------------------\u001b[0m",
      "\u001b[1;31mExecuteError\u001b[0m                              Traceback (most recent call last)",
      "\u001b[1;32m<ipython-input-3-30462457bc3d>\u001b[0m in \u001b[0;36m<module>\u001b[1;34m()\u001b[0m\n\u001b[0;32m      1\u001b[0m \u001b[1;32mfor\u001b[0m \u001b[0my\u001b[0m \u001b[1;32min\u001b[0m \u001b[0mrange\u001b[0m\u001b[1;33m(\u001b[0m\u001b[1;36m2016\u001b[0m\u001b[1;33m,\u001b[0m\u001b[1;36m2017\u001b[0m\u001b[1;33m)\u001b[0m\u001b[1;33m:\u001b[0m\u001b[1;33m\u001b[0m\u001b[0m\n\u001b[0;32m      2\u001b[0m     \u001b[1;32mfor\u001b[0m \u001b[0mFile\u001b[0m \u001b[1;32min\u001b[0m \u001b[1;33m[\u001b[0m\u001b[1;34m\"Loc\"\u001b[0m\u001b[1;33m]\u001b[0m\u001b[1;33m:\u001b[0m\u001b[1;33m\u001b[0m\u001b[0m\n\u001b[1;32m----> 3\u001b[1;33m         \u001b[1;32mprint\u001b[0m\u001b[1;33m(\u001b[0m\u001b[0my\u001b[0m\u001b[1;33m,\u001b[0m\u001b[0marcpy\u001b[0m\u001b[1;33m.\u001b[0m\u001b[0mmanagement\u001b[0m\u001b[1;33m.\u001b[0m\u001b[0mGetCount\u001b[0m\u001b[1;33m(\u001b[0m\u001b[0mSrc_Files\u001b[0m\u001b[1;33m(\u001b[0m\u001b[0mFile\u001b[0m\u001b[1;33m,\u001b[0m\u001b[0my\u001b[0m\u001b[1;33m)\u001b[0m\u001b[1;33m)\u001b[0m\u001b[1;33m)\u001b[0m\u001b[1;33m\u001b[0m\u001b[0m\n\u001b[0m\u001b[0;32m      4\u001b[0m         arcpy.CopyRows_management(in_rows=Src_Files(File,y),\n\u001b[0;32m      5\u001b[0m                                 out_table=Des_Files(File,y))\n",
      "\u001b[1;32mC:\\Program Files (x86)\\ArcGIS\\Desktop10.5\\ArcPy\\arcpy\\management.pyc\u001b[0m in \u001b[0;36mGetCount\u001b[1;34m(in_rows)\u001b[0m\n\u001b[0;32m  17475\u001b[0m         \u001b[1;32mreturn\u001b[0m \u001b[0mretval\u001b[0m\u001b[1;33m\u001b[0m\u001b[0m\n\u001b[0;32m  17476\u001b[0m     \u001b[1;32mexcept\u001b[0m \u001b[0mException\u001b[0m \u001b[1;32mas\u001b[0m \u001b[0me\u001b[0m\u001b[1;33m:\u001b[0m\u001b[1;33m\u001b[0m\u001b[0m\n\u001b[1;32m> 17477\u001b[1;33m         \u001b[1;32mraise\u001b[0m \u001b[0me\u001b[0m\u001b[1;33m\u001b[0m\u001b[0m\n\u001b[0m\u001b[0;32m  17478\u001b[0m \u001b[1;33m\u001b[0m\u001b[0m\n\u001b[0;32m  17479\u001b[0m \u001b[1;33m@\u001b[0m\u001b[0mgptooldoc\u001b[0m\u001b[1;33m(\u001b[0m\u001b[1;34m'PivotTable_management'\u001b[0m\u001b[1;33m,\u001b[0m \u001b[0mNone\u001b[0m\u001b[1;33m)\u001b[0m\u001b[1;33m\u001b[0m\u001b[0m\n",
      "\u001b[1;31mExecuteError\u001b[0m: Failed to execute. Parameters are not valid.\nERROR 000732: Input Rows: Dataset \\\\CHCFPP01\\Proj\\ILDOT\\650511SAFETYPROGRAM\\7_BaseData\\Master_BaseFiles_Data\\2016\\AggregateFiles_2016_20180402.mdb\\CrashExtract_2016_GIS does not exist or is not supported\nFailed to execute (GetCount).\n"
     ]
    }
   ],
   "source": [
    "for y in range(2016,2017):\n",
    "    for File in [\"Loc\"]:\n",
    "        print(y,arcpy.management.GetCount(Src_Files(File,y)))\n",
    "        arcpy.CopyRows_management(in_rows=Src_Files(File,y),\n",
    "                                out_table=Des_Files(File,y))\n",
    "        print(y,arcpy.management.GetCount(Des_Files(File,y)))"
   ]
  }
 ],
 "metadata": {
  "kernelspec": {
   "display_name": "Python 2",
   "language": "python",
   "name": "python2"
  },
  "language_info": {
   "codemirror_mode": {
    "name": "ipython",
    "version": 2
   },
   "file_extension": ".py",
   "mimetype": "text/x-python",
   "name": "python",
   "nbconvert_exporter": "python",
   "pygments_lexer": "ipython2",
   "version": "2.7.14"
  }
 },
 "nbformat": 4,
 "nbformat_minor": 2
}
